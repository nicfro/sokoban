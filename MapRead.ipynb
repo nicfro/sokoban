{
 "cells": [
  {
   "cell_type": "code",
   "execution_count": 19,
   "metadata": {},
   "outputs": [],
   "source": [
    "import numpy as np\n",
    "import pickle\n",
    "\n",
    "file = open('maps.txt', 'rb')\n",
    "counter = 0\n",
    "start = False\n",
    "maps = []\n",
    "for line in file:\n",
    "    if start == True:\n",
    "        if line == bytes('\\r\\n', 'utf-8'):\n",
    "            start = False\n",
    "            counter += 1\n",
    "        else:\n",
    "            #line into array\n",
    "            mapLine = line.decode(\"utf-8\")\n",
    "            mapLine = mapLine[:-4]\n",
    "            mapLine = list(mapLine)\n",
    "            for i in mapLine:\n",
    "                if i == 'X':\n",
    "                    mapLine[mapLine.index(i)] = 'w'\n",
    "                if i == '*':\n",
    "                    mapLine[mapLine.index(i)] = 'b'\n",
    "                if i == '.':\n",
    "                    mapLine[mapLine.index(i)] = 'g'\n",
    "                if i == '@':\n",
    "                    mapLine[mapLine.index(i)] = 'p'\n",
    "                if i == ' ':\n",
    "                    mapLine[mapLine.index(i)] = 'e'\n",
    "            if len(maps) >= (counter + 1):\n",
    "                maps[counter].append(mapLine)\n",
    "            else:\n",
    "                maps.append([mapLine])\n",
    "    else:\n",
    "        if line == bytes('\\r\\n', 'utf-8'):\n",
    "            start = True\n",
    "\n",
    "pickle.dump(maps, open(\"maps.p\", \"wb\"))"
   ]
  },
  {
   "cell_type": "code",
   "execution_count": null,
   "metadata": {
    "collapsed": true
   },
   "outputs": [],
   "source": []
  }
 ],
 "metadata": {
  "kernelspec": {
   "display_name": "Python 3",
   "language": "python",
   "name": "python3"
  },
  "language_info": {
   "codemirror_mode": {
    "name": "ipython",
    "version": 3
   },
   "file_extension": ".py",
   "mimetype": "text/x-python",
   "name": "python",
   "nbconvert_exporter": "python",
   "pygments_lexer": "ipython3",
   "version": "3.6.1"
  }
 },
 "nbformat": 4,
 "nbformat_minor": 2
}
